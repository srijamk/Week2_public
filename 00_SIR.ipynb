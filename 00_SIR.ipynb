{
  "nbformat": 4,
  "nbformat_minor": 0,
  "metadata": {
    "colab": {
      "name": "00_SIR.ipynb",
      "version": "0.3.2",
      "provenance": [],
      "collapsed_sections": []
    },
    "kernelspec": {
      "display_name": "Python 3",
      "language": "python",
      "name": "python3"
    }
  },
  "cells": [
    {
      "metadata": {
        "id": "AAZzCUg-L7Cf",
        "colab_type": "code",
        "colab": {}
      },
      "cell_type": "code",
      "source": [
        "import pandas as pd\n",
        "import numpy as np\n",
        "import matplotlib.pyplot as plt\n",
        "import matplotlib\n",
        "\n",
        "%matplotlib inline\n",
        "matplotlib.rcParams.update({'font.size': 16})\n",
        "np.set_printoptions(precision=2,suppress=True)"
      ],
      "execution_count": 0,
      "outputs": []
    },
    {
      "metadata": {
        "id": "5A96ODaiL7Cv",
        "colab_type": "text"
      },
      "cell_type": "markdown",
      "source": [
        "# Simple SIR Model\n",
        "\n",
        "$X_k = X_0 \\cdot A^k$"
      ]
    },
    {
      "metadata": {
        "id": "GLEBTBhyL7Cx",
        "colab_type": "code",
        "colab": {
          "base_uri": "https://localhost:8080/",
          "height": 166
        },
        "outputId": "5f1b889b-0b1e-42d8-dd9a-369ad0034e1b"
      },
      "cell_type": "code",
      "source": [
        "# size of the population\n",
        "num_pop = 1000.\n",
        "\n",
        "# number of infected individuals\n",
        "num_infect = 2.\n",
        "\n",
        "# Define the SIR matrix (entries are probabilities)\n",
        "sir_mat = np.array([[0.8, 0.2, 0., 0.],\n",
        "                    [0., 0.5, 0.4, 0.1],\n",
        "                    [0., 0., 1., 0.],\n",
        "                    [0., 0., 0., 1.]])\n",
        "\n",
        "# Define the initial state vector (entries are numbers of people)\n",
        "x = np.array([num_pop-num_infect,num_infect,0.,0.], ndmin=2)\n",
        "\n",
        "print('Initial state vector X_0:\\n{}'.format(x))\n",
        "print('\\nSIR Update Model:\\n{}'.format(sir_mat))"
      ],
      "execution_count": 2,
      "outputs": [
        {
          "output_type": "stream",
          "text": [
            "Initial state vector X_0:\n",
            "[[998.   2.   0.   0.]]\n",
            "\n",
            "SIR Update Model:\n",
            "[[0.8 0.2 0.  0. ]\n",
            " [0.  0.5 0.4 0.1]\n",
            " [0.  0.  1.  0. ]\n",
            " [0.  0.  0.  1. ]]\n"
          ],
          "name": "stdout"
        }
      ]
    },
    {
      "metadata": {
        "id": "2NPMkwmuL7C5",
        "colab_type": "code",
        "colab": {
          "base_uri": "https://localhost:8080/",
          "height": 36
        },
        "outputId": "2be61837-0abb-4a69-c013-660e68873205"
      },
      "cell_type": "code",
      "source": [
        "n_steps = 20\n",
        "cur_x = x\n",
        "for s in range(n_steps):\n",
        "  \n",
        "  cur_x = np.dot(cur_x, sir_mat)\n",
        "\n",
        "print(cur_x)"
      ],
      "execution_count": 5,
      "outputs": [
        {
          "output_type": "stream",
          "text": [
            "[[ 11.51   7.67 784.66 196.16]]\n"
          ],
          "name": "stdout"
        }
      ]
    },
    {
      "metadata": {
        "id": "vvb8oUu8L7DS",
        "colab_type": "text"
      },
      "cell_type": "markdown",
      "source": [
        "# SIR Model - v2\n",
        "\n",
        "A more accurate (but still pretty simple) SIR model follows:\n",
        "\n",
        "* $S_{n+1}=S_n(1-\\frac{\\beta}{N}I_n)$\n",
        "\n",
        "* $I_{n+1}=I_n(1+\\frac{\\beta}{N}S_n-\\gamma-\\alpha)$\n",
        "\n",
        "* $R_{n+1}=R_n+\\gamma I_n$\n",
        "\n",
        "* $D_{n+1}=D_n+\\alpha I_n$\n",
        "\n",
        "where $\\beta$ represents the probability of an S person becoming infected upon contact with an I, $\\gamma$ is the probability of an I person recovering, and $\\alpha$ is the probability of an I person dying.  Note that $1/\\gamma$ is the average length of the infection period."
      ]
    },
    {
      "metadata": {
        "id": "BWU4Xe21L7DU",
        "colab_type": "code",
        "colab": {}
      },
      "cell_type": "code",
      "source": [
        "# size of the population\n",
        "num_pop = 1000.\n",
        "\n",
        "# number of infected individuals\n",
        "num_infect = 5.\n",
        "\n",
        "beta = 0.2 # Indicates severity of disease\n",
        "gamma = 0.15\n",
        "alpha = 0.01\n",
        "\n",
        "S = num_pop-num_infect\n",
        "I = num_infect\n",
        "R = 0\n",
        "D = 0"
      ],
      "execution_count": 0,
      "outputs": []
    },
    {
      "metadata": {
        "id": "k8-YeskIL7Da",
        "colab_type": "code",
        "colab": {
          "base_uri": "https://localhost:8080/",
          "height": 36
        },
        "outputId": "1e8a3025-db8c-45ff-89b9-a070667e5c16"
      },
      "cell_type": "code",
      "source": [
        "n_steps = 200\n",
        "for s in range(n_steps):\n",
        "    prev_s = S\n",
        "    S = S * (1 - (beta / num_pop) * I)\n",
        "    R += gamma * I\n",
        "    D += alpha * I\n",
        "    I = I * (1 + (beta / num_pop) * prev_s - gamma - alpha)\n",
        "\n",
        "print([S, I, R, D])"
      ],
      "execution_count": 8,
      "outputs": [
        {
          "output_type": "stream",
          "text": [
            "[616.8829381207238, 0.000398825240243311, 357.92128612826104, 23.861419075217388]\n"
          ],
          "name": "stdout"
        }
      ]
    },
    {
      "metadata": {
        "id": "rVpqJ49pL7Dl",
        "colab_type": "code",
        "colab": {}
      },
      "cell_type": "code",
      "source": [
        ""
      ],
      "execution_count": 0,
      "outputs": []
    }
  ]
}